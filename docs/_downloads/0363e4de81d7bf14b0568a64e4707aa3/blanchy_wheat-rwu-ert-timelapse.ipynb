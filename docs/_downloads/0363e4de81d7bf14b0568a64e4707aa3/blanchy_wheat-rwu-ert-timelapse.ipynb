{
 "cells": [
  {
   "cell_type": "markdown",
   "metadata": {
    "Collapsed": "false"
   },
   "source": [
    "# Monitoring of drying under winter wheat by ERT\n",
    "This notebook shows how time-lapse electrical resistivity tomography (ERT) can help to follow the soil drying (mainly attributed to root water uptake) during the growth season.\n",
    "\n",
    "This dataset was collected on 24 pins array (0.25 m electrode spacing) using a dipole-dipole sequence with a Syscal Pro 48 (Iris Instruments, Orléans, France). The experiment took place at Worburn (UK), a research station managed by Rothamsted Research in 2017 under winter wheat."
   ]
  },
  {
   "cell_type": "code",
   "execution_count": null,
   "metadata": {
    "Collapsed": "false"
   },
   "outputs": [],
   "source": [
    "import matplotlib.pyplot as plt\n",
    "from resipy.R2 import R2\n",
    "import os\n",
    "print(os.getcwd())\n",
    "datadir = '../data/blanchy/dc-2d-timelapse/data/'\n",
    "print"
   ]
  },
  {
   "cell_type": "code",
   "execution_count": null,
   "metadata": {
    "Collapsed": "false"
   },
   "outputs": [],
   "source": [
    "k = R2() # initiate an R2 instance\n",
    "k.createTimeLapseSurvey([datadir + '17031501.csv',\n",
    "                         datadir + '17040301.csv',\n",
    "                         datadir + '17051601.csv'], ftype='Syscal')\n",
    "k.filterUnpaired() # remove dummy quadrupoles added to make dipole-dipole faster"
   ]
  },
  {
   "cell_type": "code",
   "execution_count": null,
   "metadata": {
    "Collapsed": "false"
   },
   "outputs": [],
   "source": [
    "fig, axs = plt.subplots(3, 1, figsize=(10, 9), sharex=True)\n",
    "ax = axs[0]\n",
    "k.showPseudo(index=0, ax=ax, vmin=30, vmax=80)\n",
    "ax.set_title('(a) 2017-03-15')\n",
    "ax.set_xlabel('')\n",
    "ax = axs[1]\n",
    "k.showPseudo(index=1, ax=ax, vmin=30, vmax=80)\n",
    "ax.set_title('(b) 2017-04-03')\n",
    "ax.set_xlabel('')\n",
    "ax = axs[2]\n",
    "k.showPseudo(index=2, ax=ax, vmin=30, vmax=80)\n",
    "ax.set_title('(c) 2017-05-16')"
   ]
  },
  {
   "cell_type": "code",
   "execution_count": null,
   "metadata": {
    "Collapsed": "false"
   },
   "outputs": [],
   "source": [
    "k.fitErrorPwl(index=-2) # fit a power-law error model for all dataset aggregated"
   ]
  },
  {
   "cell_type": "code",
   "execution_count": null,
   "metadata": {
    "Collapsed": "false"
   },
   "outputs": [],
   "source": [
    "k.createMesh(typ='trian', cl=0.02, cl_factor=20, show_output=False) # create a triangular mesh with a characteristic length of 0.5\n",
    "k.showMesh() # display the mesh"
   ]
  },
  {
   "cell_type": "code",
   "execution_count": null,
   "metadata": {
    "Collapsed": "false"
   },
   "outputs": [],
   "source": [
    "k.invert(parallel=True) # run the inversion (and write R2.in and protocol.dat automatically)"
   ]
  },
  {
   "cell_type": "code",
   "execution_count": null,
   "metadata": {
    "Collapsed": "false"
   },
   "outputs": [],
   "source": [
    "fig, axs = plt.subplots(2, 1, figsize=(10, 6), sharex=True)\n",
    "ax = axs[0]\n",
    "ax.set_title('(a) 15th March to 3rd April')\n",
    "k.showResults(ax=ax, index=1, attr='difference(percent)', vmin=0, vmax=50, sens=False)\n",
    "ax.set_xlabel(None)\n",
    "ax = axs[1]\n",
    "ax.set_title('(b) 15th March to 16th May')\n",
    "k.showResults(ax=ax, index=2, attr='difference(percent)', vmin=0, vmax=50, sens=False)\n",
    "fig.tight_layout()"
   ]
  },
  {
   "cell_type": "code",
   "execution_count": null,
   "metadata": {
    "Collapsed": "false"
   },
   "outputs": [],
   "source": []
  }
 ],
 "metadata": {
  "kernelspec": {
   "display_name": "Python 3",
   "language": "python",
   "name": "python3"
  },
  "language_info": {
   "codemirror_mode": {
    "name": "ipython",
    "version": 3
   },
   "file_extension": ".py",
   "mimetype": "text/x-python",
   "name": "python",
   "nbconvert_exporter": "python",
   "pygments_lexer": "ipython3",
   "version": "3.6.7"
  }
 },
 "nbformat": 4,
 "nbformat_minor": 4
}
