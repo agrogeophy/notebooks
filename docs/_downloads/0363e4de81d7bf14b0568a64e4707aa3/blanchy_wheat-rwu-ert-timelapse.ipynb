{
 "cells": [
  {
   "cell_type": "markdown",
   "metadata": {
    "iooxa": null
   },
   "source": [
    "Monitoring of soil drying under winter wheat\n",
    "=======\n",
    "(updated on 2020-12-03)"
   ]
  },
  {
   "cell_type": "markdown",
   "metadata": {
    "iooxa": null
   },
   "source": [
    "**Author**: Guillaume Blanchy  [g.blanchy@lancaster.ac.uk](g.blanchy@lancaster.ac.uk) ✉️\n",
    "\n",
    "**Reviewer**: Benjamin Mary [benjamin.mary@unipd.it](benjamin.mary@unipd.it) ✉️"
   ]
  },
  {
   "cell_type": "markdown",
   "metadata": {
    "iooxa": null
   },
   "source": [
    "## Context\n",
    "To ensure our food security while\n",
    "This notebook shows how time-lapse electrical resistivity tomography (ERT) can help to follow the soil drying (mainly driven by root water uptake) during the growth season. Geophysical tools has proven useful to monitor water movement in the subsurface [(Binley et al., 2015)](https://doi.org/10.1002/2015WR017016). From an agronomical point of view, imaging the depth and extent of water drying by the roots is a relevant traits for crop breeders to select new variety. Indeed, we can expect that a crop able to take water deeper will be more resistant to drought. Using time-lapse geophysics (ERT and FDEM), [(Shanahan et al., 2015)](https://doi.org/10.2136/sssaj2014.09.0360) were able to image differences between a few winter wheat varieties.[(Whalley et al., 2017)](https://doi.org/10.1007/s11104-016-3161-1) further expanded to larger number of varieties used and compared the geophysical methods with other more traditional approaches (neutron probe, penetrometer). However, field heterogeneity can, under some circumstances, hinder the power of geophysics to rank the varieties. This was investigated by [(Blanchy et al., 2020a)](https://doi.org/10.1002/vzj2.20037). The data presented in this notebook have been collected during this study."
   ]
  },
  {
   "cell_type": "markdown",
   "metadata": {
    "iooxa": null
   },
   "source": [
    "## Materials and Methods\n",
    "This dataset was collected on 24 pins array (0.25 m electrode spacing) using a dipole-dipole sequence with a Syscal Pro 48 (Iris Instruments, Orléans, France). The experiment took place at [Worburn (UK)](https://www.google.com/maps/place/Woburn,+Milton+Keynes,+UK/@52.017746,-0.5941597,490m/data=!3m1!1e3!4m5!3m4!1s0x487652e28c85f5dd:0x37055c5a77f68c64!8m2!3d51.987703!4d-0.6209209?hl=en), a research station managed by Rothamsted Research in 2017 under winter wheat [(Blanchy et al., 2020a)](https://doi.org/10.1002/vzj2.20037).\n",
    "\n",
    "<img src='img/blanchy-woburn.png'>\n",
    "\n",
    "Photo of one plot in February 2017.\n",
    "\n",
    "The processing of the ERT data was done using [ResIPy](https://gitlab.com/hkex/resipy) Python API [(Blanchy et al., 2020b)](https://doi.org/10.1016/j.cageo.2020.104423) that is based upon R* codes [(Binley, 2005)](http://www.sciencedirect.com/science/article/pii/B9780444538024001925)."
   ]
  },
  {
   "cell_type": "code",
   "execution_count": null,
   "metadata": {
    "iooxa": null
   },
   "outputs": [],
   "source": [
    "import matplotlib.pyplot as plt\n",
    "from resipy import R2\n",
    "datadir = '../data/blanchy/dc-2d-timelapse/data/'"
   ]
  },
  {
   "cell_type": "code",
   "execution_count": null,
   "metadata": {
    "iooxa": null
   },
   "outputs": [],
   "source": [
    "k = R2(typ='R2') # initiate a Project instance for 2D DC survey (using R2 code)\n",
    "k.createTimeLapseSurvey([datadir + '17030207.csv',\n",
    "                         datadir + '17042705.csv',\n",
    "                         datadir + '17062304.csv'], ftype='Syscal')\n",
    "k.filterUnpaired() # remove dummy quadrupoles added to make dipole-dipole faster"
   ]
  },
  {
   "cell_type": "code",
   "execution_count": null,
   "metadata": {
    "iooxa": null
   },
   "outputs": [],
   "source": [
    "fig, axs = plt.subplots(3, 1, figsize=(10, 9), sharex=True)\n",
    "ax = axs[0]\n",
    "k.showPseudo(index=0, ax=ax, vmin=30, vmax=150)\n",
    "ax.set_title('(a) 2017-03-02')\n",
    "ax.set_xlabel('')\n",
    "ax = axs[1]\n",
    "k.showPseudo(index=1, ax=ax, vmin=30, vmax=150)\n",
    "ax.set_title('(b) 2017-04-27')\n",
    "ax.set_xlabel('')\n",
    "ax = axs[2]\n",
    "k.showPseudo(index=2, ax=ax, vmin=30, vmax=150)\n",
    "ax.set_title('(c) 2017-06-23')"
   ]
  },
  {
   "cell_type": "markdown",
   "metadata": {
    "iooxa": null
   },
   "source": [
    "### Error modelling\n",
    "Inside the inversion routine, each measurement is given a weight related to the error of the measurement. As the sequence used contains both 'normal' and 'reciprocal' quadrupoles, we can compute a reciprocal error as:\n",
    "$ R_{error} = |R_{normal} - R_{reciprocal}| $.\n",
    "Using the mean resistance measured as:\n",
    "$ R_{avg} = \\frac{|R_{normal} + R_{reciprocal}|}{2}$\n",
    "we can fit a power-law error model of the type $R_{error} = a * R_{avg}^b$. This model is fitted in a logarithmic space (a power-law fit looks like a linear fit in log space). To make the fit (red line) more robust, measurements (blue plus) are grouped bins of which the mean is computed (orange dots). This \n",
    "This is implemented in the method `fitErrorPwl()` where the `index=-2` argument specifies that the model will be done on the combined data of all surveys."
   ]
  },
  {
   "cell_type": "code",
   "execution_count": null,
   "metadata": {
    "iooxa": null
   },
   "outputs": [],
   "source": [
    "k.fitErrorPwl(index=-2) # fit a power-law error model for all dataset aggregated"
   ]
  },
  {
   "cell_type": "code",
   "execution_count": null,
   "metadata": {
    "iooxa": null
   },
   "outputs": [],
   "source": [
    "k.createMesh(typ='trian', cl=0.01, cl_factor=20, show_output=False) # create a triangular mesh with a characteristic length of 0.5\n",
    "k.showMesh() # display the mesh"
   ]
  },
  {
   "cell_type": "code",
   "execution_count": null,
   "metadata": {
    "iooxa": null
   },
   "outputs": [],
   "source": [
    "k.err = False\n",
    "k.invert(parallel=True) # run the inversion (and write R2.in and protocol.dat automatically)"
   ]
  },
  {
   "cell_type": "markdown",
   "metadata": {
    "iooxa": null
   },
   "source": [
    "## Results\n",
    "By comparing the relative difference in resistivity ($\\frac{\\Delta \\rho}{\\rho_{March}}$ in %) between (a) March-April and (b) March-May. We can observe larger and deeper soil increase of resistivity associated with larger soil drying from plants water uptake."
   ]
  },
  {
   "cell_type": "code",
   "execution_count": null,
   "metadata": {
    "iooxa": null
   },
   "outputs": [],
   "source": [
    "fig, axs = plt.subplots(2, 1, figsize=(8, 4), sharex=True)\n",
    "ax = axs[0]\n",
    "ax.set_title('(a) 2nd March to 27th April')\n",
    "k.showResults(ax=ax, index=1, attr='difference(percent)', vmin=0, vmax=300, contour=True)\n",
    "ax.set_xlabel(None)\n",
    "ax = axs[1]\n",
    "ax.set_title('(b) 2nd March to 23rd May')\n",
    "k.showResults(ax=ax, index=2, attr='difference(percent)', vmin=0, vmax=300, contour=True)\n",
    "fig.tight_layout()"
   ]
  },
  {
   "cell_type": "code",
   "execution_count": null,
   "metadata": {
    "iooxa": null
   },
   "outputs": [],
   "source": []
  }
 ],
 "metadata": {
  "celltoolbar": "Aucun(e)",
  "iooxa": null,
  "kernelspec": {
   "display_name": "Python 3",
   "language": "python",
   "name": "python3"
  },
  "language_info": {
   "codemirror_mode": {
    "name": "ipython",
    "version": 3
   },
   "file_extension": ".py",
   "mimetype": "text/x-python",
   "name": "python",
   "nbconvert_exporter": "python",
   "pygments_lexer": "ipython3",
   "version": "3.8.10"
  },
  "toc-autonumbering": true,
  "toc-showtags": false
 },
 "nbformat": 4,
 "nbformat_minor": 4
}
